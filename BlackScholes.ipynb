{
 "cells": [
  {
   "cell_type": "markdown",
   "metadata": {},
   "source": [
    "## Benchmark - Julia vs Python Numba\n",
    "\n",
    "### Purpose\n",
    "\n",
    "Verify how Julia compares to Python Numba @jit.  This notebook contains the Julia implementation. The code is intentionally kept the same as the Python version. \n",
    "\n",
    "### Source\n",
    "\n",
    "Black Scholes example from Python Numba:\n",
    "\n",
    "https://github.com/ContinuumIO/numbapro-examples/blob/master/blackscholes/blackscholes_numba.py\n",
    "\n",
    "### Test Result\n",
    "\n",
    "Method | Elapsed Time *per* iteration\n",
    "-------|--------------------------------\n",
    "Python Numpy | 783 ms\n",
    "Python Numba | 404 ms\n",
    "Python Numba (nogit/parallel) | 396 ms\n",
    "Julia (single threaded) | 518 ms\n",
    "Julia (multi-threaded)  | 247 ms\n",
    "Julia (multi-threaded/inbounds) | 255 ms"
   ]
  },
  {
   "cell_type": "code",
   "execution_count": 1,
   "metadata": {},
   "outputs": [
    {
     "data": {
      "text/plain": [
       "4"
      ]
     },
     "execution_count": 1,
     "metadata": {},
     "output_type": "execute_result"
    }
   ],
   "source": [
    "Threads.nthreads()"
   ]
  },
  {
   "cell_type": "code",
   "execution_count": 2,
   "metadata": {
    "collapsed": true
   },
   "outputs": [],
   "source": [
    "using BenchmarkTools"
   ]
  },
  {
   "cell_type": "code",
   "execution_count": 3,
   "metadata": {},
   "outputs": [
    {
     "data": {
      "text/plain": [
       "cnd (generic function with 1 method)"
      ]
     },
     "execution_count": 3,
     "metadata": {},
     "output_type": "execute_result"
    }
   ],
   "source": [
    "function cnd(d::Float64) \n",
    "    A1 = 0.31938153\n",
    "    A2 = -0.356563782\n",
    "    A3 = 1.781477937\n",
    "    A4 = -1.821255978\n",
    "    A5 = 1.330274429\n",
    "    RSQRT2PI = 0.39894228040143267793994605993438\n",
    "    K = 1.0 / (1.0 + 0.2316419 * abs(d))\n",
    "    ret_val = (RSQRT2PI * exp(-0.5 * d * d) *\n",
    "              (K * (A1 + K * (A2 + K * (A3 + K * (A4 + K * A5))))))\n",
    "    d > 0 ? 1.0 - ret_val : ret_val\n",
    "end"
   ]
  },
  {
   "cell_type": "code",
   "execution_count": 4,
   "metadata": {},
   "outputs": [
    {
     "data": {
      "text/plain": [
       "black_scholes (generic function with 1 method)"
      ]
     },
     "execution_count": 4,
     "metadata": {},
     "output_type": "execute_result"
    }
   ],
   "source": [
    "function black_scholes(callResult, putResult, stockPrice, optionStrike, optionYears, \n",
    "        Riskfree, Volatility)\n",
    "    S = stockPrice\n",
    "    X = optionStrike\n",
    "    T = optionYears\n",
    "    R = Riskfree\n",
    "    V = Volatility\n",
    "    for i in 1:length(S)\n",
    "        sqrtT = sqrt(T[i])\n",
    "        d1 = (log(S[i] / X[i]) + (R + 0.5 * V * V) * T[i]) / (V * sqrtT)\n",
    "        d2 = d1 - V * sqrtT\n",
    "        cndd1 = cnd(d1)\n",
    "        cndd2 = cnd(d2)\n",
    "\n",
    "        expRT = exp((-1. * R) * T[i])\n",
    "        callResult[i] = (S[i] * cndd1 - X[i] * expRT * cndd2)\n",
    "        putResult[i] = (X[i] * expRT * (1.0 - cndd2) - S[i] * (1.0 - cndd1))\n",
    "    end\n",
    "end"
   ]
  },
  {
   "cell_type": "code",
   "execution_count": 5,
   "metadata": {},
   "outputs": [
    {
     "data": {
      "text/plain": [
       "randfloat (generic function with 1 method)"
      ]
     },
     "execution_count": 5,
     "metadata": {},
     "output_type": "execute_result"
    }
   ],
   "source": [
    "randfloat(r, low, high) = @. (1.0 - r) * low + r * high"
   ]
  },
  {
   "cell_type": "code",
   "execution_count": 6,
   "metadata": {},
   "outputs": [
    {
     "data": {
      "text/plain": [
       "testbs (generic function with 1 method)"
      ]
     },
     "execution_count": 6,
     "metadata": {},
     "output_type": "execute_result"
    }
   ],
   "source": [
    "function testbs(OPT_N, f)\n",
    "    iterations = 10\n",
    "    RISKFREE = 0.02\n",
    "    VOLATILITY = 0.30\n",
    "    callResult = zeros(OPT_N)\n",
    "    putResult  = -ones(OPT_N)\n",
    "    stockPrice    = randfloat(rand(OPT_N), 5.0, 30.0)\n",
    "    optionStrike  = randfloat(rand(OPT_N), 1.0, 100.0)\n",
    "    optionYears   = randfloat(rand(OPT_N), 0.25, 10.0)\n",
    "    for i in 1:iterations\n",
    "        f(callResult, putResult, stockPrice, optionStrike, optionYears, RISKFREE, VOLATILITY)\n",
    "    end\n",
    "end"
   ]
  },
  {
   "cell_type": "code",
   "execution_count": 7,
   "metadata": {},
   "outputs": [
    {
     "name": "stdout",
     "output_type": "stream",
     "text": [
      "  5.851138 seconds (101 allocations: 274.665 MiB, 4.83% gc time)\n"
     ]
    }
   ],
   "source": [
    "testbs(1, black_scholes)  # warm up\n",
    "@time testbs(4000000, black_scholes)"
   ]
  },
  {
   "cell_type": "code",
   "execution_count": 8,
   "metadata": {},
   "outputs": [
    {
     "data": {
      "text/plain": [
       "BenchmarkTools.Trial: \n",
       "  memory estimate:  274.66 MiB\n",
       "  allocs estimate:  18\n",
       "  --------------\n",
       "  minimum time:     5.022 s (3.76% GC)\n",
       "  median time:      5.186 s (3.65% GC)\n",
       "  mean time:        5.319 s (3.80% GC)\n",
       "  maximum time:     5.881 s (3.23% GC)\n",
       "  --------------\n",
       "  samples:          4\n",
       "  evals/sample:     1"
      ]
     },
     "execution_count": 8,
     "metadata": {},
     "output_type": "execute_result"
    }
   ],
   "source": [
    "bmk = @benchmark testbs(4000000, $black_scholes) seconds=20"
   ]
  },
  {
   "cell_type": "code",
   "execution_count": 11,
   "metadata": {},
   "outputs": [
    {
     "data": {
      "text/plain": [
       "black_scholes2 (generic function with 1 method)"
      ]
     },
     "execution_count": 11,
     "metadata": {},
     "output_type": "execute_result"
    }
   ],
   "source": [
    "function black_scholes2(callResult, putResult, stockPrice, optionStrike, optionYears, \n",
    "        Riskfree, Volatility)\n",
    "    S = stockPrice\n",
    "    X = optionStrike\n",
    "    T = optionYears\n",
    "    R = Riskfree\n",
    "    V = Volatility\n",
    "    Threads.@threads for i in 1:length(S)\n",
    "        sqrtT = sqrt(T[i])\n",
    "        d1 = (log(S[i] / X[i]) + (R + 0.5 * V * V) * T[i]) / (V * sqrtT)\n",
    "        d2 = d1 - V * sqrtT\n",
    "        cndd1 = cnd(d1)\n",
    "        cndd2 = cnd(d2)\n",
    "\n",
    "        expRT = exp((-1. * R) * T[i])\n",
    "        callResult[i] = (S[i] * cndd1 - X[i] * expRT * cndd2)\n",
    "        putResult[i] = (X[i] * expRT * (1.0 - cndd2) - S[i] * (1.0 - cndd1))\n",
    "    end\n",
    "end"
   ]
  },
  {
   "cell_type": "code",
   "execution_count": 12,
   "metadata": {},
   "outputs": [
    {
     "data": {
      "text/plain": [
       "BenchmarkTools.Trial: \n",
       "  memory estimate:  274.66 MiB\n",
       "  allocs estimate:  28\n",
       "  --------------\n",
       "  minimum time:     2.429 s (10.45% GC)\n",
       "  median time:      2.466 s (9.34% GC)\n",
       "  mean time:        2.492 s (9.85% GC)\n",
       "  maximum time:     2.667 s (8.81% GC)\n",
       "  --------------\n",
       "  samples:          9\n",
       "  evals/sample:     1"
      ]
     },
     "execution_count": 12,
     "metadata": {},
     "output_type": "execute_result"
    }
   ],
   "source": [
    "bmk2 = @benchmark testbs(4000000, $black_scholes2) seconds=20"
   ]
  },
  {
   "cell_type": "code",
   "execution_count": 15,
   "metadata": {},
   "outputs": [
    {
     "data": {
      "text/plain": [
       "black_scholes3 (generic function with 1 method)"
      ]
     },
     "execution_count": 15,
     "metadata": {},
     "output_type": "execute_result"
    }
   ],
   "source": [
    "function black_scholes3(callResult, putResult, stockPrice, optionStrike, optionYears, \n",
    "        Riskfree, Volatility)\n",
    "    S = stockPrice\n",
    "    X = optionStrike\n",
    "    T = optionYears\n",
    "    R = Riskfree\n",
    "    V = Volatility\n",
    "    @inbounds Threads.@threads for i in 1:length(S)\n",
    "        sqrtT = sqrt(T[i])\n",
    "        d1 = (log(S[i] / X[i]) + (R + 0.5 * V * V) * T[i]) / (V * sqrtT)\n",
    "        d2 = d1 - V * sqrtT\n",
    "        cndd1 = cnd(d1)\n",
    "        cndd2 = cnd(d2)\n",
    "\n",
    "        expRT = exp((-1. * R) * T[i])\n",
    "        callResult[i] = (S[i] * cndd1 - X[i] * expRT * cndd2)\n",
    "        putResult[i] = (X[i] * expRT * (1.0 - cndd2) - S[i] * (1.0 - cndd1))\n",
    "    end\n",
    "end"
   ]
  },
  {
   "cell_type": "code",
   "execution_count": 16,
   "metadata": {},
   "outputs": [
    {
     "data": {
      "text/plain": [
       "BenchmarkTools.Trial: \n",
       "  memory estimate:  274.66 MiB\n",
       "  allocs estimate:  28\n",
       "  --------------\n",
       "  minimum time:     2.447 s (11.75% GC)\n",
       "  median time:      2.549 s (12.62% GC)\n",
       "  mean time:        2.649 s (13.91% GC)\n",
       "  maximum time:     3.066 s (21.68% GC)\n",
       "  --------------\n",
       "  samples:          8\n",
       "  evals/sample:     1"
      ]
     },
     "execution_count": 16,
     "metadata": {},
     "output_type": "execute_result"
    }
   ],
   "source": [
    "bmk3 = @benchmark testbs(4000000, $black_scholes3) seconds=20"
   ]
  },
  {
   "cell_type": "code",
   "execution_count": 17,
   "metadata": {},
   "outputs": [
    {
     "name": "stdout",
     "output_type": "stream",
     "text": [
      "Julia Version 0.6.2\n",
      "Commit d386e40c17 (2017-12-13 18:08 UTC)\n",
      "Platform Info:\n",
      "  OS: macOS (x86_64-apple-darwin14.5.0)\n",
      "  CPU: Intel(R) Core(TM) i5-4258U CPU @ 2.40GHz\n",
      "  WORD_SIZE: 64\n",
      "  BLAS: libopenblas (USE64BITINT DYNAMIC_ARCH NO_AFFINITY Haswell)\n",
      "  LAPACK: libopenblas64_\n",
      "  LIBM: libopenlibm\n",
      "  LLVM: libLLVM-3.9.1 (ORCJIT, haswell)\n"
     ]
    }
   ],
   "source": [
    "versioninfo()"
   ]
  },
  {
   "cell_type": "code",
   "execution_count": 18,
   "metadata": {},
   "outputs": [
    {
     "name": "stderr",
     "output_type": "stream",
     "text": [
      "Python 3.6.3 :: Anaconda, Inc.\n"
     ]
    }
   ],
   "source": [
    ";python -V"
   ]
  }
 ],
 "metadata": {
  "kernelspec": {
   "display_name": "Julia 0.6.2",
   "language": "julia",
   "name": "julia-0.6"
  },
  "language_info": {
   "file_extension": ".jl",
   "mimetype": "application/julia",
   "name": "julia",
   "version": "0.6.2"
  }
 },
 "nbformat": 4,
 "nbformat_minor": 2
}
